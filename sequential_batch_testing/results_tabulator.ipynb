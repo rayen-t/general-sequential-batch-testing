{
 "cells": [
  {
   "cell_type": "code",
   "execution_count": null,
   "metadata": {},
   "outputs": [],
   "source": [
    "import numpy as np\n",
    "import json\n",
    "import pandas as pd\n",
    "from os import listdir"
   ]
  },
  {
   "cell_type": "markdown",
   "metadata": {},
   "source": [
    "### Read data"
   ]
  },
  {
   "cell_type": "code",
   "execution_count": null,
   "metadata": {},
   "outputs": [],
   "source": [
    "def read_data(result_number):\n",
    "\n",
    "    DATA_DIR = rf\"../results/{result_number}\"\n",
    "\n",
    "    result_list = []\n",
    "\n",
    "    for result in listdir(DATA_DIR):\n",
    "        if result.endswith(\".json\"):\n",
    "            with open(f\"{DATA_DIR}/{result}\") as f:\n",
    "                data = json.load(f)\n",
    "                instance = data.pop(\"data\")\n",
    "                result_list.append({**data, **instance})\n",
    "\n",
    "    result_df = pd.DataFrame(result_list)\n",
    "    result_df[\"batched_approximation_ratio\"] = result_df[\"derandomized_batched_cost\"] / result_df[\"optimal_batched_cost\"]\n",
    "    result_df[\"alg_time\"] = result_df[\"derandomized_batch_time\"] + result_df[\"unbatched_time\"]\n",
    "    result_df.loc[:, result_df.columns.str.contains(\"time\")] = result_df.loc[:, result_df.columns.str.contains(\"time\")] / 1e9\n",
    "    result_df['number_of_breakpoints'] = result_df['interval_breakpoints'].apply(len)\n",
    "    result_df.to_csv(f\"{DATA_DIR}/results.csv\", index=False)\n",
    "    print(result_df.columns)\n",
    "    return result_df\n",
    "result_number = 1718317124655246000\n",
    "result_df = read_data(result_number)"
   ]
  },
  {
   "cell_type": "code",
   "execution_count": null,
   "metadata": {},
   "outputs": [],
   "source": [
    "def label_problem(result_df):\n",
    "    result_df[\"problem\"] = None\n",
    "    assert all(result_df.loc[result_df[\"unit_cost\"], \"problem\"].isnull())\n",
    "    result_df.loc[result_df[\"unit_cost\"], \"problem\"] = \"unit_cost\"\n",
    "    assert all((result_df.loc[result_df[\"is_series\"], \"problem\"].isnull()))\n",
    "    result_df.loc[result_df[\"is_series\"], \"problem\"] = \"series\"\n",
    "    assert all(result_df.loc[(~result_df[\"unit_cost\"]) & (result_df[\"k\"].notnull()) & (~result_df[\"is_series\"]), \"problem\"].isnull())\n",
    "    result_df.loc[(~result_df[\"unit_cost\"]) & (result_df[\"k\"].notnull()) & ~result_df[\"is_series\"], \"problem\"] = \"k-of-n\"\n",
    "    assert all(result_df.loc[result_df[\"k\"].isnull(), \"problem\"].isnull())\n",
    "    result_df.loc[result_df[\"k\"].isnull(), \"problem\"] = \"SSC\"\n",
    "    assert result_df[\"problem\"].notnull().all()\n",
    "label_problem(result_df)"
   ]
  },
  {
   "cell_type": "code",
   "execution_count": null,
   "metadata": {},
   "outputs": [],
   "source": [
    "groupview = result_df.groupby([\"problem\", \"n\"])"
   ]
  },
  {
   "cell_type": "markdown",
   "metadata": {},
   "source": []
  },
  {
   "cell_type": "code",
   "execution_count": null,
   "metadata": {},
   "outputs": [],
   "source": [
    "result_df.groupby(\"n\")[\"optimal_time\"].describe()"
   ]
  },
  {
   "cell_type": "code",
   "execution_count": null,
   "metadata": {},
   "outputs": [],
   "source": [
    "groupview[\"optimal_time\"].describe()"
   ]
  },
  {
   "cell_type": "code",
   "execution_count": null,
   "metadata": {},
   "outputs": [],
   "source": [
    "groupview[\"batched_approximation_ratio\"].describe()"
   ]
  },
  {
   "cell_type": "code",
   "execution_count": null,
   "metadata": {},
   "outputs": [],
   "source": [
    "high_batch_cost = result_df[result_df['batch_cost'] == result_df['n']]\n",
    "high_batch_cost.groupby(['problem', 'n'])['batched_approximation_ratio'].describe()"
   ]
  },
  {
   "cell_type": "code",
   "execution_count": null,
   "metadata": {},
   "outputs": [],
   "source": [
    "result_df.sort_values(\"batched_approximation_ratio\", ascending=False).head(10)[['n', 'interval_breakpoints', 'batched_approximation_ratio']]"
   ]
  },
  {
   "cell_type": "code",
   "execution_count": null,
   "metadata": {},
   "outputs": [],
   "source": [
    "result_df.groupby(['problem', 'number_of_breakpoints', 'n'])['number_of_batches'].describe()"
   ]
  },
  {
   "cell_type": "code",
   "execution_count": null,
   "metadata": {},
   "outputs": [],
   "source": [
    "summary = result_df[result_df['problem'] == 'series'].groupby([\"problem_type\", \"n\"])[[\"batched_approximation_ratio\"]].agg([\"mean\", \"max\"])\n",
    "summary.rename(columns={\"batched_approximation_ratio\": \"Approximation Ratio\", \"alg_time\": \"Time (ms)\"}, inplace=True)\n",
    "\n",
    "# summary.rename(index={\"unit_cost\": \"Unit Cost\", \"series\": \"Series\", \"k-of-n\": \"\\\\kofn\", \"SSC\": \"\\\\ssc\"}, inplace=True)\n",
    "summary.index.names = [\"Problem Type\", \"n\"]\n",
    "summary = summary.unstack(0)\n",
    "summary = summary.swaplevel(axis=\"columns\")\n",
    "summary = summary.sort_index(axis=\"columns\", level=\"Problem Type\", sort_remaining=False)\n",
    "styler = summary.style.format(precision=3)\n",
    "\n",
    "styler.to_latex(buf=\"summary.tex\", label=\"tab:series\", caption=\"Approximation ratio for series systems\",hrules=True, position_float=\"centering\")"
   ]
  },
  {
   "cell_type": "code",
   "execution_count": null,
   "metadata": {},
   "outputs": [],
   "source": [
    "summary2 = result_df[result_df['problem'] == 'k-of-n'].groupby([\"n\"])[[\"batched_approximation_ratio\"]].agg([\"mean\", \"max\"])\n",
    "summary2.rename(columns={\"batched_approximation_ratio\": \"Approximation Ratio\", \"alg_time\": \"Time (ms)\"}, inplace=True)\n",
    "\n",
    "# # summary.rename(index={\"unit_cost\": \"Unit Cost\", \"series\": \"Series\", \"k-of-n\": \"\\\\kofn\", \"SSC\": \"\\\\ssc\"}, inplace=True)\n",
    "# summary2.index.names = [\"n\"]\n",
    "# summary2 = summary2.unstack(0)\n",
    "# summary2 = summary2.swaplevel(axis=\"columns\")\n",
    "# summary2 = summary2.sort_index(axis=\"columns\", level=\"Problem Type\", sort_remaining=False)\n",
    "# styler = summary2.style.format(precision=3)\n",
    "summary2 = summary2.transpose()\n",
    "summary2 = summary2.droplevel(0)\n",
    "print(summary2)\n",
    "styler2 = summary2.style.format(precision=3)\n",
    "styler2.to_latex(buf=\"summary_kn.tex\", label=\"tab:k-of-n\", caption=\"Approximation ratio for \\\\kofn\",)"
   ]
  },
  {
   "cell_type": "code",
   "execution_count": null,
   "metadata": {},
   "outputs": [],
   "source": [
    "summary3 = result_df[result_df['problem'] == 'SSC'].groupby([\"n\"])[[\"batched_approximation_ratio\"]].agg([\"mean\", \"max\", \"count\"])\n",
    "summary3.rename(columns={\"batched_approximation_ratio\": \"Approximation Ratio\", \"alg_time\": \"Time (ms)\"}, inplace=True)\n",
    "\n",
    "# # summary.rename(index={\"unit_cost\": \"Unit Cost\", \"series\": \"Series\", \"k-of-n\": \"\\\\kofn\", \"SSC\": \"\\\\ssc\"}, inplace=True)\n",
    "# summary2.index.names = [\"n\"]\n",
    "# summary2 = summary2.unstack(0)\n",
    "# summary2 = summary2.swaplevel(axis=\"columns\")\n",
    "# summary2 = summary2.sort_index(axis=\"columns\", level=\"Problem Type\", sort_remaining=False)\n",
    "# styler = summary2.style.format(precision=3)\n",
    "summary3 = summary3.transpose()\n",
    "summary3 = summary3.droplevel(0)\n",
    "print(summary3)\n",
    "styler3 = summary3.style.format(precision=3)\n",
    "styler3.to_latex(buf=\"summary_ssc.tex\", label=\"tab:ssc\", caption=\"Approximation ratio for \\\\ssc\", hrules=True)\n"
   ]
  },
  {
   "cell_type": "code",
   "execution_count": null,
   "metadata": {},
   "outputs": [],
   "source": [
    "print(summary2.mean(axis=1))\n",
    "print(summary3.mean(axis=1))"
   ]
  },
  {
   "cell_type": "markdown",
   "metadata": {},
   "source": []
  },
  {
   "cell_type": "markdown",
   "metadata": {},
   "source": [
    "### Analyze SSC"
   ]
  },
  {
   "cell_type": "code",
   "execution_count": null,
   "metadata": {},
   "outputs": [],
   "source": [
    "ssc = result_df[result_df[\"problem\"] == \"SSC\"]"
   ]
  },
  {
   "cell_type": "code",
   "execution_count": null,
   "metadata": {},
   "outputs": [],
   "source": [
    "ssc[\"num_breakpoints\"] = ssc[\"interval_breakpoints\"].apply(len)"
   ]
  },
  {
   "cell_type": "code",
   "execution_count": null,
   "metadata": {},
   "outputs": [],
   "source": [
    "ssc.groupby([\"n\", \"num_breakpoints\"])[\"\"].describe()"
   ]
  },
  {
   "cell_type": "markdown",
   "metadata": {},
   "source": [
    "Test floor\n"
   ]
  },
  {
   "cell_type": "code",
   "execution_count": null,
   "metadata": {},
   "outputs": [],
   "source": [
    "for n in range(5, 16):\n",
    "    print(np.floor(n/4), np.floor(n/2), np.ceil(3*n/4))"
   ]
  },
  {
   "cell_type": "code",
   "execution_count": null,
   "metadata": {},
   "outputs": [],
   "source": []
  },
  {
   "cell_type": "code",
   "execution_count": null,
   "metadata": {},
   "outputs": [],
   "source": []
  }
 ],
 "metadata": {
  "kernelspec": {
   "display_name": "venv",
   "language": "python",
   "name": "python3"
  },
  "language_info": {
   "codemirror_mode": {
    "name": "ipython",
    "version": 3
   },
   "file_extension": ".py",
   "mimetype": "text/x-python",
   "name": "python",
   "nbconvert_exporter": "python",
   "pygments_lexer": "ipython3",
   "version": "3.12.4"
  }
 },
 "nbformat": 4,
 "nbformat_minor": 2
}
